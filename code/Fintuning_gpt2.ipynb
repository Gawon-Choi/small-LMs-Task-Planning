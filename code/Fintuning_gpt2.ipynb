{
 "cells": [
  {
   "cell_type": "code",
   "execution_count": null,
   "id": "277229ed",
   "metadata": {},
   "outputs": [],
   "source": [
    "import json\n",
    "import re\n",
    "\n",
    "import pandas as pd\n",
    "import numpy as np\n",
    "import random\n",
    "\n",
    "import torch\n",
    "from torch.utils.data import Dataset, DataLoader, random_split, RandomSampler, SequentialSampler\n",
    "torch.manual_seed(42)\n",
    "\n",
    "from transformers import GPT2LMHeadModel,  GPT2Tokenizer, GPT2Config\n",
    "from transformers import AdamW, get_linear_schedule_with_warmup"
   ]
  },
  {
   "cell_type": "code",
   "execution_count": null,
   "id": "f99556bd",
   "metadata": {},
   "outputs": [],
   "source": [
    "class CustomDataset(Dataset):\n",
    "    def __init__(self, dataset, tokenizer, gpt2_type=\"gpt2\", max_length=1024):\n",
    "        self.tokenizer = tokenizer\n",
    "        self.input_ids = []\n",
    "        self.attn_masks = []\n",
    "\n",
    "        for data in dataset:\n",
    "            encodings_dict = tokenizer('<|sos|>'+ data + '<|eos|>', \\\n",
    "                                       truncation=True, max_length=max_length, padding=\"max_length\")\n",
    "\n",
    "            self.input_ids.append(torch.tensor(encodings_dict['input_ids']))\n",
    "            self.attn_masks.append(torch.tensor(encodings_dict['attention_mask']))\n",
    "\n",
    "    def __len__(self):\n",
    "        return len(self.input_ids)\n",
    "\n",
    "    def __getitem__(self, idx):\n",
    "        return self.input_ids[idx], self.attn_masks[idx] "
   ]
  },
  {
   "cell_type": "markdown",
   "id": "a8758cda",
   "metadata": {},
   "source": [
    "* Load Data"
   ]
  },
  {
   "cell_type": "code",
   "execution_count": null,
   "id": "8202a1eb",
   "metadata": {},
   "outputs": [],
   "source": [
    "domain=\"Kitchen\""
   ]
  },
  {
   "cell_type": "code",
   "execution_count": null,
   "id": "1c6d43ba",
   "metadata": {},
   "outputs": [],
   "source": [
    "file_path= './datasets/{}/Dataset.json'.format(domain)\n",
    "with open(file_path, 'r') as f:\n",
    "    data= json.load(f)\n",
    "    \n",
    "_dataset= list()\n",
    "for idx in range(len(data['high_instructions'])):\n",
    "    steps=''\n",
    "    for step_i in data['steps'][idx]:\n",
    "        step_i= re.sub(r'\\s+', ' ', step_i, flags= re.DOTALL)\n",
    "        steps = steps + step_i + '\\n'\n",
    "    train_data= 'Objects= '+ str(data['objects_on_table'][idx]) + '\\n' +\\\n",
    "        \"Command= \" + data['high_instructions'][idx] + '\\n'+\\\n",
    "    \"Action Step= \"+ '\\n' + steps\n",
    "    train_data.strip()\n",
    "    _dataset.append(train_data)"
   ]
  },
  {
   "cell_type": "code",
   "execution_count": null,
   "id": "23f349c4",
   "metadata": {},
   "outputs": [],
   "source": [
    "sample_idx= -10\n",
    "\n",
    "print(len(_dataset))\n",
    "print(_dataset[sample_idx])"
   ]
  },
  {
   "cell_type": "markdown",
   "id": "5262c9c7",
   "metadata": {},
   "source": [
    "----\n",
    "* Load models, Dataloader"
   ]
  },
  {
   "cell_type": "code",
   "execution_count": null,
   "id": "913fe32e",
   "metadata": {},
   "outputs": [],
   "source": [
    "tokenizer = GPT2Tokenizer.from_pretrained('gpt2-medium', \\\n",
    "                                          bos_token='<|sos|>', \\\n",
    "                                          eos_token='<|eos|>', \\\n",
    "                                          pad_token='<|pad|>')\n",
    "\n",
    "max_length= 1024\n",
    "batch_size= 4"
   ]
  },
  {
   "cell_type": "code",
   "execution_count": null,
   "id": "17d31a06",
   "metadata": {},
   "outputs": [],
   "source": [
    "custom_dataset = CustomDataset(_dataset, tokenizer, max_length=max_length)\n",
    "\n",
    "train_size = int(0.98 * len(custom_dataset))\n",
    "val_size = len(custom_dataset) - train_size\n",
    "train_dataset, val_dataset = random_split(custom_dataset, [train_size, val_size])\n",
    "\n",
    "print('{} training samples'.format(train_size))\n",
    "print('{} validation samples'.format(val_size))\n",
    "\n",
    "train_dataloader = DataLoader(\n",
    "            train_dataset,  # The training samples.\n",
    "            sampler = RandomSampler(train_dataset), # Select batches randomly\n",
    "            batch_size = batch_size # Trains with this batch size.\n",
    "        )\n",
    "\n",
    "validation_dataloader = DataLoader(\n",
    "            val_dataset, # The validation samples.\n",
    "            sampler = SequentialSampler(val_dataset), # Pull out batches sequentially.\n",
    "            batch_size = batch_size # Evaluate with this batch size.\n",
    "        )"
   ]
  },
  {
   "cell_type": "markdown",
   "id": "a4f3546f",
   "metadata": {},
   "source": [
    "---\n",
    "* (Train) Finetuning GPT2"
   ]
  },
  {
   "cell_type": "code",
   "execution_count": null,
   "id": "a43fdd80",
   "metadata": {},
   "outputs": [],
   "source": [
    "epochs = 24\n",
    "sample_every = 6000"
   ]
  },
  {
   "cell_type": "code",
   "execution_count": null,
   "id": "b234fc61",
   "metadata": {},
   "outputs": [],
   "source": [
    "configuration = GPT2Config.from_pretrained('gpt2')\n",
    "model = GPT2LMHeadModel.from_pretrained(\"gpt2\", config=configuration)\n",
    "\n",
    "model.resize_token_embeddings(len(tokenizer))\n",
    "\n",
    "device = 'cuda' if torch.cuda.is_available() else 'cpu'\n",
    "model.cuda()\n",
    "print(device)\n",
    "\n",
    "seed_val = 42\n",
    "\n",
    "random.seed(seed_val)\n",
    "np.random.seed(seed_val)\n",
    "torch.manual_seed(seed_val)\n",
    "torch.cuda.manual_seed_all(seed_val)\n",
    "\n",
    "learning_rate = 5e-4\n",
    "warmup_steps = 1e2\n",
    "epsilon = 1e-8\n",
    "\n",
    "optimizer = AdamW(model.parameters(),\n",
    "                  lr = learning_rate,\n",
    "                  eps = epsilon)"
   ]
  },
  {
   "cell_type": "code",
   "execution_count": null,
   "id": "e0582db3",
   "metadata": {
    "scrolled": true
   },
   "outputs": [],
   "source": [
    "print(\"Start fine-tuning gpt2\")\n",
    "\n",
    "total_steps = len(train_dataloader) * epochs\n",
    "scheduler = get_linear_schedule_with_warmup(optimizer, \n",
    "                                            num_warmup_steps = warmup_steps, \n",
    "                                            num_training_steps = total_steps)\n",
    "\n",
    "model = model.to(device)\n",
    "training_stats= list()\n",
    "steps_count= 0\n",
    "\n",
    "for epoch_i in range(0, epochs):\n",
    "    print('\\n======== Epoch {:} / {:} ========'.format(epoch_i + 1, epochs))\n",
    "    print('Training...')\n",
    "\n",
    "    total_train_loss = 0\n",
    "    model.train()\n",
    "\n",
    "    for step, data in enumerate(train_dataloader):\n",
    "        \n",
    "        input_ids = data[0].to(device)\n",
    "        labels = data[0].to(device)\n",
    "        attn_masks = data[1].to(device)\n",
    "        steps_count+=1\n",
    "\n",
    "        model.zero_grad()        \n",
    "        outputs = model(input_ids,\n",
    "                        labels=labels, \n",
    "                        attention_mask = attn_masks,\n",
    "                        token_type_ids=None)\n",
    "\n",
    "        loss = outputs[0]  \n",
    "        \n",
    "        batch_loss = loss.item()\n",
    "        total_train_loss += batch_loss\n",
    "\n",
    "        loss.backward()\n",
    "        optimizer.step()\n",
    "        scheduler.step()\n",
    "        \n",
    "        # Save the model every 4000 step\n",
    "        if (steps_count % sample_every == 0):\n",
    "            model.eval()\n",
    "            print('Steps {} , Loss: {}.'.format(steps_count, batch_loss))\n",
    "            output_dir = './fintuned_model/{}/_gpt2_small/gpt2_small({})_objs'.format(domain, steps_count)\n",
    "            model_to_save = model.module if hasattr(model, 'module') else model  # Take care of distributed/parallel training\n",
    "            model_to_save.save_pretrained(output_dir)\n",
    "            tokenizer.save_pretrained(output_dir)\n",
    "            model.train()\n",
    "\n",
    "    avg_train_loss = total_train_loss / len(train_dataloader)       \n",
    "    print(\"\\nAverage training loss: {0:.2f}\".format(avg_train_loss))\n",
    "    print(\"\\nRunning Validation...\") ######\n",
    "    model.eval()\n",
    "\n",
    "    total_eval_loss = 0\n",
    "    nb_eval_steps = 0\n",
    "\n",
    "    # Evaluate data for one epoch\n",
    "    for data in validation_dataloader:\n",
    "        \n",
    "        input_ids = data[0].to(device)\n",
    "        labels = data[0].to(device)\n",
    "        attn_masks = data[1].to(device)\n",
    "        \n",
    "        with torch.no_grad():        \n",
    "            outputs  = model(input_ids, \n",
    "                             attention_mask = attn_masks,\n",
    "                             labels=labels)\n",
    "          \n",
    "            loss = outputs[0]  \n",
    "            \n",
    "        batch_loss = loss.item()\n",
    "        total_eval_loss += batch_loss        \n",
    "\n",
    "    avg_val_loss = total_eval_loss / len(validation_dataloader)\n",
    "    print(\"  Validation Loss: {0:.2f}\".format(avg_val_loss))\n",
    "\n",
    "    # Record all statistics from this epoch.\n",
    "    training_stats.append(\n",
    "        {\n",
    "            'epoch': epoch_i + 1,\n",
    "            'Training Loss': avg_train_loss,\n",
    "            'Valid. Loss': avg_val_loss\n",
    "        }\n",
    "    )\n",
    "\n",
    "print(\"\")\n",
    "print(\"Training complete!\")\n",
    "print(\"Saving model to %s\" % output_dir)\n",
    "output_dir = './finetuned_small_lms/{}/gpt2_medium({})'.format(domain, steps_count)\n",
    "model_to_save = model.module if hasattr(model, 'module') else model\n",
    "model_to_save.save_pretrained(output_dir)\n",
    "tokenizer.save_pretrained(output_dir)"
   ]
  },
  {
   "cell_type": "code",
   "execution_count": null,
   "id": "1913f769",
   "metadata": {},
   "outputs": [],
   "source": []
  }
 ],
 "metadata": {
  "kernelspec": {
   "display_name": "gpt2_env",
   "language": "python",
   "name": "gpt2_env"
  },
  "language_info": {
   "codemirror_mode": {
    "name": "ipython",
    "version": 3
   },
   "file_extension": ".py",
   "mimetype": "text/x-python",
   "name": "python",
   "nbconvert_exporter": "python",
   "pygments_lexer": "ipython3",
   "version": "3.9.1"
  },
  "varInspector": {
   "cols": {
    "lenName": 16,
    "lenType": 16,
    "lenVar": 40
   },
   "kernels_config": {
    "python": {
     "delete_cmd_postfix": "",
     "delete_cmd_prefix": "del ",
     "library": "var_list.py",
     "varRefreshCmd": "print(var_dic_list())"
    },
    "r": {
     "delete_cmd_postfix": ") ",
     "delete_cmd_prefix": "rm(",
     "library": "var_list.r",
     "varRefreshCmd": "cat(var_dic_list()) "
    }
   },
   "types_to_exclude": [
    "module",
    "function",
    "builtin_function_or_method",
    "instance",
    "_Feature"
   ],
   "window_display": false
  }
 },
 "nbformat": 4,
 "nbformat_minor": 5
}
