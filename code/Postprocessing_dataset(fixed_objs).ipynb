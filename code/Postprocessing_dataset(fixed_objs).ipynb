{
 "cells": [
  {
   "cell_type": "code",
   "execution_count": 1,
   "id": "c3bc7bd4",
   "metadata": {},
   "outputs": [],
   "source": [
    "import json\n",
    "import re\n",
    "import random\n",
    "import copy"
   ]
  },
  {
   "cell_type": "code",
   "execution_count": 3,
   "id": "bfaafeae",
   "metadata": {},
   "outputs": [],
   "source": [
    "domain= \"Tabletop\""
   ]
  },
  {
   "cell_type": "code",
   "execution_count": 2,
   "id": "40734157",
   "metadata": {},
   "outputs": [],
   "source": [
    "def make_dataset(prompt_out_steps_list, high_insts, used_objs):\n",
    "    \n",
    "    used_objs_list= list()\n",
    "    steps_list= list()\n",
    "    high_inst_list= list()\n",
    "    noise= list()\n",
    "    _dataset= prompt_out_steps_list\n",
    "    \n",
    "    dataset= dict()\n",
    "    for idx, _data in enumerate(_dataset):\n",
    "        \n",
    "        _data= re.sub(r'\\n{2,}', '\\n', _data)\n",
    "        steps= _data.strip().split(sep='=', maxsplit=1)\n",
    "        \n",
    "        if len(steps) <= 1:\n",
    "            steps= _data.strip().split(sep=':', maxsplit=1)\n",
    "            if len(steps) <= 1:\n",
    "                print(\"There is noise :\", idx, '\\n', _data)\n",
    "                print('#'*20, end='\\n\\n')\n",
    "                noise.append(idx)\n",
    "                continue\n",
    "        \n",
    "        steps= steps[1].strip()\n",
    "        steps= steps.split(\"\\n\")\n",
    "        steps= [step.strip() for step in steps]\n",
    "        \n",
    "        steps_list.append(steps)\n",
    "        used_objs_list.append(used_objs[idx])\n",
    "        high_inst_list.append(high_insts[idx])\n",
    "    \n",
    "    dataset['steps']= steps_list\n",
    "    dataset['used_objects']= used_objs_list\n",
    "    dataset['high_instructions']= high_inst_list\n",
    "    \n",
    "    return dataset, noise"
   ]
  },
  {
   "cell_type": "code",
   "execution_count": 4,
   "id": "9f090cda",
   "metadata": {},
   "outputs": [],
   "source": [
    "file_path= \"./datasets/{}/_Dataset.json\".format(domain)\n",
    "with open(file_path, 'r') as json_file:\n",
    "    _dataset= json.load(json_file)\n",
    "    \n",
    "print(_dataset.keys())"
   ]
  },
  {
   "cell_type": "code",
   "execution_count": 6,
   "id": "87cce055",
   "metadata": {},
   "outputs": [],
   "source": [
    "file_path= \"./datasets/{}/Commands.json\".format(domain)\n",
    "with open(file_path, 'r') as json_file:\n",
    "    _commands= json.load(json_file)\n",
    "    \n",
    "print(_commands.keys())"
   ]
  },
  {
   "cell_type": "code",
   "execution_count": 8,
   "id": "48ba8004",
   "metadata": {},
   "outputs": [],
   "source": [
    "_dataset['used_objects']= copy.deepcopy(_commands['used_objects'])"
   ]
  },
  {
   "cell_type": "code",
   "execution_count": 10,
   "id": "d669bd94",
   "metadata": {
    "scrolled": true
   },
   "outputs": [],
   "source": [
    "dataset, noise = make_dataset(_dataset['prompt_output(steps)'], _dataset['high_instructions'], _dataset['used_objects'])"
   ]
  },
  {
   "cell_type": "code",
   "execution_count": 12,
   "id": "5ea10198",
   "metadata": {},
   "outputs": [],
   "source": [
    "_dataset['objects']= list(set(_dataset['objects']))\n",
    "dataset['objects']=list()\n",
    "\n",
    "# Capitalize the first character\n",
    "for obj in _dataset['objects']:\n",
    "    obj= obj[0].upper() + obj[1:]\n",
    "    dataset['objects'].append(obj.strip())"
   ]
  },
  {
   "cell_type": "code",
   "execution_count": 44,
   "id": "eb580be3",
   "metadata": {},
   "outputs": [],
   "source": [
    "proposed_objs_list= list()\n",
    "_used_obj_list= copy.deepcopy(dataset['used_objects'])\n",
    "\n",
    "# Remove duplicate objects\n",
    "for idx, objs in enumerate(_used_obj_list):\n",
    "    _used_obj_list[idx]= list(set(_used_obj_list[idx]))\n",
    "    \n",
    "    for i, _ in enumerate(_used_obj_list[idx]):\n",
    "        _used_obj_list[idx][i]= _used_obj_list[idx][i].lower()\n",
    "        \n",
    "        if len(_used_obj_list[idx][i].strip()) <= 1:\n",
    "            print(idx, i, _used_obj_list[idx][i])\n",
    "            _used_obj_list[idx].remove(_used_obj_list[idx][i])\n",
    "            continue\n",
    "\n",
    "# Make final object list : required objects to execute commands + random objects\n",
    "for used_obj in _used_obj_list:\n",
    "    random_picked_objs= list()\n",
    "    filtered_list= list()\n",
    "    \n",
    "    for item in dataset['objects']:\n",
    "        if item.lower() not in used_obj:\n",
    "            filtered_list.append(item)\n",
    "            \n",
    "    random_picked_objs = random.sample(filtered_list, random.choice([1, 3]))\n",
    "    used_obj= [obj[0].upper()+obj[1:] for obj in used_obj]\n",
    "    \n",
    "    proposed_objs= copy.deepcopy(used_obj)\n",
    "    proposed_objs.extend(random_picked_objs)\n",
    "    random.shuffle(proposed_objs)\n",
    "    proposed_objs_list.append(proposed_objs)"
   ]
  },
  {
   "cell_type": "code",
   "execution_count": 46,
   "id": "0aa9d5d8",
   "metadata": {
    "scrolled": true
   },
   "outputs": [],
   "source": [
    "# Check if there are duplicate objects, and remove duplicate objects.\n",
    "for obj_list in _used_obj_list:\n",
    "    _obj_list= list(set(obj_list))\n",
    "    if len(_obj_list) != len(obj_list):\n",
    "        print(obj_list)\n",
    "        print(_obj_list)"
   ]
  },
  {
   "cell_type": "code",
   "execution_count": 47,
   "id": "625c71d1",
   "metadata": {},
   "outputs": [],
   "source": [
    "dataset['objects_on_table']= copy.deepcopy(proposed_objs_list)\n",
    "dataset['place']= _dataset['place']\n",
    "\n",
    "print(dataset.keys())"
   ]
  },
  {
   "cell_type": "code",
   "execution_count": 50,
   "id": "7cd4419d",
   "metadata": {},
   "outputs": [],
   "source": [
    "file_path= \"./datasets/{}/\".format(domain)\n",
    "\n",
    "with open(file_path+'Dataset.json', 'w') as json_file:\n",
    "    json.dump(dataset, json_file, indent='\\t')"
   ]
  },
  {
   "cell_type": "code",
   "execution_count": null,
   "id": "2ce4a379",
   "metadata": {},
   "outputs": [],
   "source": []
  }
 ],
 "metadata": {
  "kernelspec": {
   "display_name": "gpt2_env",
   "language": "python",
   "name": "gpt2_env"
  },
  "language_info": {
   "codemirror_mode": {
    "name": "ipython",
    "version": 3
   },
   "file_extension": ".py",
   "mimetype": "text/x-python",
   "name": "python",
   "nbconvert_exporter": "python",
   "pygments_lexer": "ipython3",
   "version": "3.9.1"
  },
  "varInspector": {
   "cols": {
    "lenName": 16,
    "lenType": 16,
    "lenVar": 40
   },
   "kernels_config": {
    "python": {
     "delete_cmd_postfix": "",
     "delete_cmd_prefix": "del ",
     "library": "var_list.py",
     "varRefreshCmd": "print(var_dic_list())"
    },
    "r": {
     "delete_cmd_postfix": ") ",
     "delete_cmd_prefix": "rm(",
     "library": "var_list.r",
     "varRefreshCmd": "cat(var_dic_list()) "
    }
   },
   "types_to_exclude": [
    "module",
    "function",
    "builtin_function_or_method",
    "instance",
    "_Feature"
   ],
   "window_display": false
  }
 },
 "nbformat": 4,
 "nbformat_minor": 5
}
